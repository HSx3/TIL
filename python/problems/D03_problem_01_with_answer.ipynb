{
 "cells": [
  {
   "cell_type": "markdown",
   "metadata": {},
   "source": [
    "# 이상한 덧셈\n",
    "\n",
    "> 숫자 구성된 리스트에서 양의 정수의 합을 구하는 함수 `positive_sum`을 작성하세요.\n",
    "\n",
    "예시)\n",
    "\n",
    "```python\n",
    "positive_sum([1,-4,7,12]) #=> 20\n",
    "positive_sum([-1, -2, -3, -4]) #=> 0\n",
    "```"
   ]
  },
  {
   "cell_type": "code",
   "execution_count": null,
   "metadata": {},
   "outputs": [],
   "source": [
    "# 여기에 코드를 작성하세요.\n",
    "def positive_sum(numbers):\n",
    "    sum = 0\n",
    "    for n in numbers:\n",
    "        if n > 0:\n",
    "            sum += n\n",
    "    return sum\n",
    "\n",
    "# 고급\n",
    "# def positive_sum(numbers):\n",
    "#     return sum(n for n in numbers if x > 0)"
   ]
  },
  {
   "cell_type": "code",
   "execution_count": null,
   "metadata": {},
   "outputs": [],
   "source": [
    "# 해당 코드를 통해 올바른 결과가 나오는지 확인하세요.\n",
    "print(positive_sum([1,-4,7,12])) #=> 20\n",
    "print(positive_sum([-1, -2, -3, -4])) #=> 0"
   ]
  },
  {
   "cell_type": "markdown",
   "metadata": {},
   "source": [
    "# 모음 제거하기\n",
    "\n",
    "> 주어진 문자열에서 소문자 모음을 제거하는 함수 `shortcut`을 작성하세요.\n",
    "\n",
    "예시)\n",
    "\n",
    "```python\n",
    "shortcut(\"Life is too short, you need python\") #=> Lf s t shrt, y nd pythn\n",
    "```\n"
   ]
  },
  {
   "cell_type": "code",
   "execution_count": null,
   "metadata": {},
   "outputs": [],
   "source": [
    "# 여기에 코드를 작성하세요.\n",
    "def shortcut(s):\n",
    "    vowel = ['a', 'e', 'i', 'o', 'u']\n",
    "    a = ''\n",
    "    for i in s:\n",
    "        if i not in vowel:\n",
    "            a += i\n",
    "    return a\n",
    "\n",
    "# .replace() 사용\n",
    "# def shortcut(s):\n",
    "#     for vowel in 'aeiou':\n",
    "#         s = s.replace(vowel, '')\n",
    "#     return s\n",
    "\n",
    "\n",
    "# 고급\n",
    "# def shortcut(s):\n",
    "#     return s.translate(None, 'aeiou')"
   ]
  },
  {
   "cell_type": "code",
   "execution_count": null,
   "metadata": {},
   "outputs": [],
   "source": [
    "# 해당 코드를 통해 올바른 결과가 나오는지 확인하세요.\n",
    "print(shortcut(\"Life is too short, you need python\")) #=> Lf s t shrt, y nd pythn"
   ]
  },
  {
   "cell_type": "markdown",
   "metadata": {},
   "source": [
    "# 문자열 탐색\n",
    "\n",
    "> 문자열 요소로만 이루어진 리스트를 넣었을 때, 문자열 길이가 2 이상이고 주어진 문자열의 첫번째와 마지막 문자가 같은 문자열의 수를 세는 함수 `start_end`를 작성하시오.\n",
    "\n",
    "예시)\n",
    "\n",
    "```python\n",
    "start_end(['level', 'asdwe', 's', 'abceda', 'gsdwrtfg']) #=> 3\n",
    "```\n"
   ]
  },
  {
   "cell_type": "code",
   "execution_count": null,
   "metadata": {},
   "outputs": [],
   "source": [
    "# 여기에 코드를 작성하세요.\n",
    "def start_end(words):\n",
    "    count = 0\n",
    "    for sample in words:\n",
    "        if len(sample) >= 2 and sample[0] == sample[-1]:\n",
    "            count += 1\n",
    "    return count\n",
    "\n",
    "# 고급\n",
    "# def start_end(words):\n",
    "#     return len([w for w in words if len(w) > 1 and w[0] == w[-1]])"
   ]
  },
  {
   "cell_type": "code",
   "execution_count": null,
   "metadata": {},
   "outputs": [],
   "source": [
    "# 해당 코드를 통해 올바른 결과가 나오는지 확인하세요.\n",
    "print(start_end(['level', 'asdwe', 's', 'abceda', 'gsdwrtfg'])) #=> 3"
   ]
  }
 ],
 "metadata": {
  "kernelspec": {
   "display_name": "Python 3",
   "language": "python",
   "name": "python3"
  },
  "language_info": {
   "codemirror_mode": {
    "name": "ipython",
    "version": 3
   },
   "file_extension": ".py",
   "mimetype": "text/x-python",
   "name": "python",
   "nbconvert_exporter": "python",
   "pygments_lexer": "ipython3",
   "version": "3.6.7"
  },
  "toc": {
   "base_numbering": 1,
   "nav_menu": {},
   "number_sections": true,
   "sideBar": true,
   "skip_h1_title": false,
   "title_cell": "Table of Contents",
   "title_sidebar": "Contents",
   "toc_cell": false,
   "toc_position": {},
   "toc_section_display": true,
   "toc_window_display": false
  }
 },
 "nbformat": 4,
 "nbformat_minor": 2
}
