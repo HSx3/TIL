{
 "cells": [
  {
   "cell_type": "markdown",
   "metadata": {},
   "source": [
    "## D01 WORKSHOP"
   ]
  },
  {
   "cell_type": "markdown",
   "metadata": {},
   "source": [
    "**문제 0**\n",
    "- 1월부터 12월까지 다음과 같은 형태로 달력이 출력되도록 코드를 작성하세요.\n",
    "```bash\n",
    "1 월\n",
    "일 월 화 수 목 금 토\n",
    "1 2 3 4 5 6 7\n",
    "8 9 10 11 12 13 14\n",
    "15 16 17 18 19 20 21\n",
    "22 23 24 25 26 27 28\n",
    "29 30 31\n",
    "2 월\n",
    "일 월 화 수 목 금 토\n",
    "1 2 3 4 5 6 7\n",
    "8 9 10 11 12 13 14\n",
    "15 16 17 18 19 20 21\n",
    "22 23 24 25 26 27 28\n",
    "```"
   ]
  },
  {
   "cell_type": "code",
   "execution_count": 152,
   "metadata": {},
   "outputs": [
    {
     "name": "stdout",
     "output_type": "stream",
     "text": [
      "1 월\n",
      "일 월 화 수 목 금 토 \n",
      "1 2 3 4 5 6 7 \n",
      "8 9 10 11 12 13 14 \n",
      "15 16 17 18 19 20 21 \n",
      "22 23 24 25 26 27 28 \n",
      "29 30 31 \n",
      "\n",
      "2 월\n",
      "일 월 화 수 목 금 토 \n",
      "1 2 3 4 5 6 7 \n",
      "8 9 10 11 12 13 14 \n",
      "15 16 17 18 19 20 21 \n",
      "22 23 24 25 26 27 28 \n",
      "\n",
      "\n",
      "3 월\n",
      "일 월 화 수 목 금 토 \n",
      "1 2 3 4 5 6 7 \n",
      "8 9 10 11 12 13 14 \n",
      "15 16 17 18 19 20 21 \n",
      "22 23 24 25 26 27 28 \n",
      "29 30 31 \n",
      "\n",
      "4 월\n",
      "일 월 화 수 목 금 토 \n",
      "1 2 3 4 5 6 7 \n",
      "8 9 10 11 12 13 14 \n",
      "15 16 17 18 19 20 21 \n",
      "22 23 24 25 26 27 28 \n",
      "29 30 \n",
      "\n",
      "5 월\n",
      "일 월 화 수 목 금 토 \n",
      "1 2 3 4 5 6 7 \n",
      "8 9 10 11 12 13 14 \n",
      "15 16 17 18 19 20 21 \n",
      "22 23 24 25 26 27 28 \n",
      "29 30 31 \n",
      "\n",
      "6 월\n",
      "일 월 화 수 목 금 토 \n",
      "1 2 3 4 5 6 7 \n",
      "8 9 10 11 12 13 14 \n",
      "15 16 17 18 19 20 21 \n",
      "22 23 24 25 26 27 28 \n",
      "29 30 \n",
      "\n",
      "7 월\n",
      "일 월 화 수 목 금 토 \n",
      "1 2 3 4 5 6 7 \n",
      "8 9 10 11 12 13 14 \n",
      "15 16 17 18 19 20 21 \n",
      "22 23 24 25 26 27 28 \n",
      "29 30 31 \n",
      "\n",
      "8 월\n",
      "일 월 화 수 목 금 토 \n",
      "1 2 3 4 5 6 7 \n",
      "8 9 10 11 12 13 14 \n",
      "15 16 17 18 19 20 21 \n",
      "22 23 24 25 26 27 28 \n",
      "29 30 31 \n",
      "\n",
      "9 월\n",
      "일 월 화 수 목 금 토 \n",
      "1 2 3 4 5 6 7 \n",
      "8 9 10 11 12 13 14 \n",
      "15 16 17 18 19 20 21 \n",
      "22 23 24 25 26 27 28 \n",
      "29 30 \n",
      "\n",
      "10 월\n",
      "일 월 화 수 목 금 토 \n",
      "1 2 3 4 5 6 7 \n",
      "8 9 10 11 12 13 14 \n",
      "15 16 17 18 19 20 21 \n",
      "22 23 24 25 26 27 28 \n",
      "29 30 31 \n",
      "\n",
      "11 월\n",
      "일 월 화 수 목 금 토 \n",
      "1 2 3 4 5 6 7 \n",
      "8 9 10 11 12 13 14 \n",
      "15 16 17 18 19 20 21 \n",
      "22 23 24 25 26 27 28 \n",
      "29 30 \n",
      "\n",
      "12 월\n",
      "일 월 화 수 목 금 토 \n",
      "1 2 3 4 5 6 7 \n",
      "8 9 10 11 12 13 14 \n",
      "15 16 17 18 19 20 21 \n",
      "22 23 24 25 26 27 28 \n",
      "29 30 31 \n",
      "\n"
     ]
    }
   ],
   "source": [
    "# 정답\n",
    "calender = {\n",
    "            1: 31, 2: 28, 3: 31, 4: 30, 5: 31, 6: 30,\n",
    "            7: 31, 8: 31, 9: 30, 10: 31, 11: 30, 12: 31\n",
    "            }\n",
    "weeks = [\"일\", \"월\", \"화\", \"수\", \"목\", \"금\", \"토\"]\n",
    "\n",
    "for month, count_day in calender.items():\n",
    "    count = 0\n",
    "    print(month, '월')\n",
    "    for day in weeks:\n",
    "        print(day, end = ' ')\n",
    "    print()\n",
    "    \n",
    "    for i in range(1, count_day + 1):\n",
    "        print(i, end = ' ')\n",
    "        count += 1\n",
    "        if count == 7:\n",
    "            print()\n",
    "            count = 0\n",
    "    print(end='\\n\\n')\n",
    "\n",
    "\n",
    "# for month in range(1,13):\n",
    "#     print(f'{month} 월')\n",
    "#     print(\"일 월 화 수 목 금 토\")\n",
    "#     if month == 1 or 3 or 5 or 7 or 8 or 10 or 12:\n",
    "#         for day in range(1, 32):\n",
    "#             print(day, end = \" \")\n",
    "#             if day % 7 == 0:\n",
    "#                 print(\" \")\n",
    "#         print(\"\\n\")\n",
    "#     elif month == 2:\n",
    "#         for day in range(1, 29):\n",
    "#             print(day, end = \" \")\n",
    "#             if day % 7 == 0:\n",
    "#                 print(\" \")\n",
    "#         print(\"\\n\")\n",
    "#     else:\n",
    "#         for day in range(1, 31):\n",
    "#             print(day, end = \" \")\n",
    "#             if day % 7 == 0:\n",
    "#                 print(\" \")\n",
    "#         print(\"\\n\")\n"
   ]
  },
  {
   "cell_type": "markdown",
   "metadata": {},
   "source": [
    "**문제 1**\n",
    "- 두 개의 정수 n과 m이 주어집니다. 반복문을 사용하지 않고 별(*) 문자를 이용해 가로의 길이가 n, 세로의 길이가 m인 직사각형 형태를 출력해보세요."
   ]
  },
  {
   "cell_type": "code",
   "execution_count": 108,
   "metadata": {},
   "outputs": [],
   "source": [
    "# 문제\n",
    "n = 5\n",
    "m = 9"
   ]
  },
  {
   "cell_type": "code",
   "execution_count": 137,
   "metadata": {},
   "outputs": [
    {
     "name": "stdout",
     "output_type": "stream",
     "text": [
      "*****\n",
      "*****\n",
      "*****\n",
      "*****\n",
      "*****\n",
      "*****\n",
      "*****\n",
      "*****\n",
      "*****\n",
      "\n"
     ]
    }
   ],
   "source": [
    "# 정답\n",
    "print(('*' * n + '\\n' ) * m)"
   ]
  },
  {
   "cell_type": "markdown",
   "metadata": {},
   "source": [
    "**문제2**\n",
    "- 다음 딕셔너리에서 평균 점수를 출력하시오."
   ]
  },
  {
   "cell_type": "code",
   "execution_count": 83,
   "metadata": {},
   "outputs": [],
   "source": [
    "# 문제\n",
    "student = {'python': 80, 'algorithm': 99, 'django': 89, 'flask': 83}"
   ]
  },
  {
   "cell_type": "code",
   "execution_count": 140,
   "metadata": {},
   "outputs": [
    {
     "name": "stdout",
     "output_type": "stream",
     "text": [
      "87.75\n"
     ]
    }
   ],
   "source": [
    "# 정답\n",
    "average = sum(student.values())/len(student)\n",
    "print(average)\n",
    "\n",
    "# total = 0\n",
    "# for score in student.values():\n",
    "# #     print(score)\n",
    "#     total += score\n",
    "    \n",
    "# avg = total / len(student)\n",
    "# print(f'평균 점수는 {avg}점 입니다.')"
   ]
  },
  {
   "cell_type": "markdown",
   "metadata": {},
   "source": [
    "**문제3**\n",
    "- 다음은 학생들의 혈액형(A, B, AB, O)에 대한 데이터이다. for문을 이용하여 각 혈액형 별 학생수의 합계를 구하시오."
   ]
  },
  {
   "cell_type": "code",
   "execution_count": 71,
   "metadata": {},
   "outputs": [],
   "source": [
    "# 문제\n",
    "blood_types = ['A', 'B', 'A', 'O', 'AB', 'AB', 'O', 'A', 'B', 'O', 'B', 'AB']"
   ]
  },
  {
   "cell_type": "code",
   "execution_count": 146,
   "metadata": {},
   "outputs": [
    {
     "name": "stdout",
     "output_type": "stream",
     "text": [
      "{'A': 3, 'B': 3, 'O': 3, 'AB': 3}\n"
     ]
    }
   ],
   "source": [
    "# 정답\n",
    "result = {}\n",
    "\n",
    "for blood_type in blood_types:\n",
    "    if blood_type in result:\n",
    "        result[blood_type] += 1\n",
    "    else:\n",
    "        result[blood_type] = 1\n",
    "print(result)\n",
    "\n",
    "# list_A = []\n",
    "# list_B = []\n",
    "# list_O = []\n",
    "# list_AB = []\n",
    "# for student in blood_types:\n",
    "#     if student == 'A':\n",
    "#         list_A.append(student)\n",
    "#     elif student == 'B':\n",
    "#         list_B.append(student)\n",
    "#     elif student == 'O':\n",
    "#         list_O.append(student)\n",
    "#     else:\n",
    "#         list_AB.append(student)\n",
    "        \n",
    "# print(f'A형은 총 {len(list_A)}명 입니다.')\n",
    "# print(f'B형은 총 {len(list_B)}명 입니다.')\n",
    "# print(f'O형은 총 {len(list_O)}명 입니다.')\n",
    "# print(f'AB형은 총 {len(list_AB)}명 입니다.')    "
   ]
  }
 ],
 "metadata": {
  "kernelspec": {
   "display_name": "Python 3",
   "language": "python",
   "name": "python3"
  },
  "language_info": {
   "codemirror_mode": {
    "name": "ipython",
    "version": 3
   },
   "file_extension": ".py",
   "mimetype": "text/x-python",
   "name": "python",
   "nbconvert_exporter": "python",
   "pygments_lexer": "ipython3",
   "version": "3.6.7"
  },
  "toc": {
   "base_numbering": 1,
   "nav_menu": {},
   "number_sections": true,
   "sideBar": true,
   "skip_h1_title": false,
   "title_cell": "Table of Contents",
   "title_sidebar": "Contents",
   "toc_cell": false,
   "toc_position": {},
   "toc_section_display": true,
   "toc_window_display": false
  }
 },
 "nbformat": 4,
 "nbformat_minor": 2
}
